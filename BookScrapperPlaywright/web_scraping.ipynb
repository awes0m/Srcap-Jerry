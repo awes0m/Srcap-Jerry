{
 "cells": [
  {
   "cell_type": "code",
   "execution_count": 1,
   "metadata": {},
   "outputs": [],
   "source": [
    "from bs4 import BeautifulSoup"
   ]
  },
  {
   "cell_type": "code",
   "execution_count": 2,
   "metadata": {},
   "outputs": [],
   "source": [
    "with open(\"manual.html\",\"r\",encoding=\"utf8\") as f:\n",
    "    page= f.read()"
   ]
  },
  {
   "cell_type": "code",
   "execution_count": 3,
   "metadata": {},
   "outputs": [],
   "source": [
    "soup = BeautifulSoup(page,'html.parser')"
   ]
  },
  {
   "cell_type": "code",
   "execution_count": 4,
   "metadata": {},
   "outputs": [],
   "source": [
    "titleSoup=soup.select('article h3[itemprop=\"name\"]')"
   ]
  },
  {
   "cell_type": "code",
   "execution_count": 5,
   "metadata": {},
   "outputs": [
    {
     "data": {
      "text/plain": [
       "'SPARRING PARTNERS'"
      ]
     },
     "execution_count": 5,
     "metadata": {},
     "output_type": "execute_result"
    }
   ],
   "source": [
    "titleSoup[0].text"
   ]
  },
  {
   "cell_type": "code",
   "execution_count": 6,
   "metadata": {},
   "outputs": [
    {
     "data": {
      "text/plain": [
       "['SPARRING PARTNERS',\n",
       " 'IT ENDS WITH US',\n",
       " 'WHERE THE CRAWDADS SING',\n",
       " 'BOOK LOVERS',\n",
       " 'VERITY',\n",
       " '            THE SEVEN HUSBANDS OF EVELYN HUGO          ',\n",
       " 'MEANT TO BE',\n",
       " 'UGLY LOVE',\n",
       " 'NIGHTWORK',\n",
       " 'THE BOARDWALK BOOKSHOP',\n",
       " 'PEOPLE WE MEET ON VACATION',\n",
       " 'NOVEMBER 9',\n",
       " 'BEACH READ',\n",
       " 'ALL YOUR PERFECTS',\n",
       " 'MALIBU RISING']"
      ]
     },
     "execution_count": 6,
     "metadata": {},
     "output_type": "execute_result"
    }
   ],
   "source": [
    "titleList=[r.text.replace('\\n','') for r in titleSoup]\n",
    "titleList"
   ]
  },
  {
   "cell_type": "code",
   "execution_count": 7,
   "metadata": {},
   "outputs": [],
   "source": [
    "authorSoup =soup.select('article p[itemprop=\"author\"]')"
   ]
  },
  {
   "cell_type": "code",
   "execution_count": 9,
   "metadata": {},
   "outputs": [
    {
     "data": {
      "text/plain": [
       "['John Grisham',\n",
       " 'Colleen Hoover',\n",
       " 'Delia Owens',\n",
       " 'Emily Henry',\n",
       " 'Colleen Hoover',\n",
       " 'Taylor Jenkins Reid',\n",
       " 'Emily Giffin',\n",
       " 'Colleen Hoover',\n",
       " 'Nora Roberts',\n",
       " 'Susan Mallery',\n",
       " 'Emily Henry',\n",
       " 'Colleen Hoover',\n",
       " 'Emily Henry',\n",
       " 'Colleen Hoover',\n",
       " 'Taylor Jenkins Reid']"
      ]
     },
     "execution_count": 9,
     "metadata": {},
     "output_type": "execute_result"
    }
   ],
   "source": [
    "authorList=[r.text.replace('\\n','').replace('by ','') for r in authorSoup]\n",
    "authorList"
   ]
  },
  {
   "cell_type": "code",
   "execution_count": 10,
   "metadata": {},
   "outputs": [
    {
     "data": {
      "text/plain": [
       "[<img alt=\"SPARRING PARTNERS by John Grisham\" itemprop=\"image\" role=\"presentation\" src=\"https://storage.googleapis.com/du-prd/books/images/9780385549325.jpg\"/>,\n",
       " <img alt=\"IT ENDS WITH US by Colleen Hoover\" itemprop=\"image\" role=\"presentation\" src=\"https://storage.googleapis.com/du-prd/books/images/9781501110375.jpg\"/>,\n",
       " <img alt=\"WHERE THE CRAWDADS SING by Delia Owens\" itemprop=\"image\" role=\"presentation\" src=\"https://storage.googleapis.com/du-prd/books/images/9780735219090.jpg\"/>,\n",
       " <img alt=\"BOOK LOVERS by Emily Henry\" itemprop=\"image\" role=\"presentation\" src=\"https://storage.googleapis.com/du-prd/books/images/9780593334836.jpg\"/>,\n",
       " <img alt=\"VERITY by Colleen Hoover\" itemprop=\"image\" role=\"presentation\" src=\"https://storage.googleapis.com/du-prd/books/images/9781791392796.jpg\"/>,\n",
       " <img alt=\"THE SEVEN HUSBANDS OF EVELYN HUGO by Taylor Jenkins Reid\" itemprop=\"image\" role=\"presentation\" src=\"https://storage.googleapis.com/du-prd/books/images/9781501161933.jpg\"/>,\n",
       " <img alt=\"MEANT TO BE by Emily Giffin\" itemprop=\"image\" role=\"presentation\" src=\"https://storage.googleapis.com/du-prd/books/images/9780425286647.jpg\"/>,\n",
       " <img alt=\"UGLY LOVE by Colleen Hoover\" itemprop=\"image\" role=\"presentation\" src=\"https://storage.googleapis.com/du-prd/books/images/9781476753195.jpg\"/>,\n",
       " <img alt=\"NIGHTWORK by Nora Roberts\" itemprop=\"image\" role=\"presentation\" src=\"https://storage.googleapis.com/du-prd/books/images/9781250278197.jpg\"/>,\n",
       " <img alt=\"THE BOARDWALK BOOKSHOP by Susan Mallery\" itemprop=\"image\" role=\"presentation\" src=\"https://storage.googleapis.com/du-prd/books/images/9780778386087.jpg\"/>,\n",
       " <img alt=\"PEOPLE WE MEET ON VACATION by Emily Henry\" itemprop=\"image\" role=\"presentation\" src=\"https://storage.googleapis.com/du-prd/books/images/9781984806758.jpg\"/>,\n",
       " <img alt=\"NOVEMBER 9 by Colleen Hoover\" itemprop=\"image\" role=\"presentation\" src=\"https://storage.googleapis.com/du-prd/books/images/9781501110351.jpg\"/>,\n",
       " <img alt=\"BEACH READ by Emily Henry\" itemprop=\"image\" role=\"presentation\" src=\"https://storage.googleapis.com/du-prd/books/images/9781984806734.jpg\"/>,\n",
       " <img alt=\"ALL YOUR PERFECTS by Colleen Hoover\" itemprop=\"image\" role=\"presentation\" src=\"https://storage.googleapis.com/du-prd/books/images/9781501171604.jpg\"/>,\n",
       " <img alt=\"MALIBU RISING by Taylor Jenkins Reid\" itemprop=\"image\" role=\"presentation\" src=\"https://storage.googleapis.com/du-prd/books/images/9781524798659.jpg\"/>]"
      ]
     },
     "execution_count": 10,
     "metadata": {},
     "output_type": "execute_result"
    }
   ],
   "source": [
    "imageSoup=soup.select('article img[itemprop=\"image\"]')\n",
    "imageSoup"
   ]
  },
  {
   "cell_type": "code",
   "execution_count": 11,
   "metadata": {},
   "outputs": [
    {
     "data": {
      "text/plain": [
       "['https://storage.googleapis.com/du-prd/books/images/9780385549325.jpg',\n",
       " 'https://storage.googleapis.com/du-prd/books/images/9781501110375.jpg',\n",
       " 'https://storage.googleapis.com/du-prd/books/images/9780735219090.jpg',\n",
       " 'https://storage.googleapis.com/du-prd/books/images/9780593334836.jpg',\n",
       " 'https://storage.googleapis.com/du-prd/books/images/9781791392796.jpg',\n",
       " 'https://storage.googleapis.com/du-prd/books/images/9781501161933.jpg',\n",
       " 'https://storage.googleapis.com/du-prd/books/images/9780425286647.jpg',\n",
       " 'https://storage.googleapis.com/du-prd/books/images/9781476753195.jpg',\n",
       " 'https://storage.googleapis.com/du-prd/books/images/9781250278197.jpg',\n",
       " 'https://storage.googleapis.com/du-prd/books/images/9780778386087.jpg',\n",
       " 'https://storage.googleapis.com/du-prd/books/images/9781984806758.jpg',\n",
       " 'https://storage.googleapis.com/du-prd/books/images/9781501110351.jpg',\n",
       " 'https://storage.googleapis.com/du-prd/books/images/9781984806734.jpg',\n",
       " 'https://storage.googleapis.com/du-prd/books/images/9781501171604.jpg',\n",
       " 'https://storage.googleapis.com/du-prd/books/images/9781524798659.jpg']"
      ]
     },
     "execution_count": 11,
     "metadata": {},
     "output_type": "execute_result"
    }
   ],
   "source": [
    "imageList=[r[\"src\"] for r in imageSoup ]\n",
    "imageList"
   ]
  },
  {
   "cell_type": "code",
   "execution_count": 12,
   "metadata": {},
   "outputs": [
    {
     "data": {
      "text/plain": [
       "[('SPARRING PARTNERS',\n",
       "  'John Grisham',\n",
       "  'https://storage.googleapis.com/du-prd/books/images/9780385549325.jpg'),\n",
       " ('IT ENDS WITH US',\n",
       "  'Colleen Hoover',\n",
       "  'https://storage.googleapis.com/du-prd/books/images/9781501110375.jpg'),\n",
       " ('WHERE THE CRAWDADS SING',\n",
       "  'Delia Owens',\n",
       "  'https://storage.googleapis.com/du-prd/books/images/9780735219090.jpg'),\n",
       " ('BOOK LOVERS',\n",
       "  'Emily Henry',\n",
       "  'https://storage.googleapis.com/du-prd/books/images/9780593334836.jpg'),\n",
       " ('VERITY',\n",
       "  'Colleen Hoover',\n",
       "  'https://storage.googleapis.com/du-prd/books/images/9781791392796.jpg'),\n",
       " ('            THE SEVEN HUSBANDS OF EVELYN HUGO          ',\n",
       "  'Taylor Jenkins Reid',\n",
       "  'https://storage.googleapis.com/du-prd/books/images/9781501161933.jpg'),\n",
       " ('MEANT TO BE',\n",
       "  'Emily Giffin',\n",
       "  'https://storage.googleapis.com/du-prd/books/images/9780425286647.jpg'),\n",
       " ('UGLY LOVE',\n",
       "  'Colleen Hoover',\n",
       "  'https://storage.googleapis.com/du-prd/books/images/9781476753195.jpg'),\n",
       " ('NIGHTWORK',\n",
       "  'Nora Roberts',\n",
       "  'https://storage.googleapis.com/du-prd/books/images/9781250278197.jpg'),\n",
       " ('THE BOARDWALK BOOKSHOP',\n",
       "  'Susan Mallery',\n",
       "  'https://storage.googleapis.com/du-prd/books/images/9780778386087.jpg'),\n",
       " ('PEOPLE WE MEET ON VACATION',\n",
       "  'Emily Henry',\n",
       "  'https://storage.googleapis.com/du-prd/books/images/9781984806758.jpg'),\n",
       " ('NOVEMBER 9',\n",
       "  'Colleen Hoover',\n",
       "  'https://storage.googleapis.com/du-prd/books/images/9781501110351.jpg'),\n",
       " ('BEACH READ',\n",
       "  'Emily Henry',\n",
       "  'https://storage.googleapis.com/du-prd/books/images/9781984806734.jpg'),\n",
       " ('ALL YOUR PERFECTS',\n",
       "  'Colleen Hoover',\n",
       "  'https://storage.googleapis.com/du-prd/books/images/9781501171604.jpg'),\n",
       " ('MALIBU RISING',\n",
       "  'Taylor Jenkins Reid',\n",
       "  'https://storage.googleapis.com/du-prd/books/images/9781524798659.jpg')]"
      ]
     },
     "execution_count": 12,
     "metadata": {},
     "output_type": "execute_result"
    }
   ],
   "source": [
    "list(zip(titleList, authorList, imageList))"
   ]
  },
  {
   "cell_type": "markdown",
   "metadata": {},
   "source": [
    "# Summarizing everything above in a function"
   ]
  },
  {
   "cell_type": "code",
   "execution_count": 19,
   "metadata": {},
   "outputs": [],
   "source": [
    "def get_book_info(page):\n",
    "    soup = BeautifulSoup(page,'html.parser')\n",
    "    \n",
    "    titleSoup=soup.select('article h3[itemprop=\"name\"]')\n",
    "    titleList=[r.text.replace('\\n','') for r in titleSoup]\n",
    "    \n",
    "    authorSoup =soup.select('article p[itemprop=\"author\"]')\n",
    "    authorList=[r.text.replace('\\n','').replace('by ','') for r in authorSoup]\n",
    "    \n",
    "    imageSoup=soup.select('article img[itemprop=\"image\"]')\n",
    "    imageList=[r[\"src\"] for r in imageSoup ]\n",
    "    \n",
    "    return list(zip(titleList, authorList, imageList))"
   ]
  },
  {
   "cell_type": "code",
   "execution_count": 20,
   "metadata": {},
   "outputs": [
    {
     "data": {
      "text/plain": [
       "[('SPARRING PARTNERS',\n",
       "  'John Grisham',\n",
       "  'https://storage.googleapis.com/du-prd/books/images/9780385549325.jpg'),\n",
       " ('IT ENDS WITH US',\n",
       "  'Colleen Hoover',\n",
       "  'https://storage.googleapis.com/du-prd/books/images/9781501110375.jpg'),\n",
       " ('WHERE THE CRAWDADS SING',\n",
       "  'Delia Owens',\n",
       "  'https://storage.googleapis.com/du-prd/books/images/9780735219090.jpg'),\n",
       " ('BOOK LOVERS',\n",
       "  'Emily Henry',\n",
       "  'https://storage.googleapis.com/du-prd/books/images/9780593334836.jpg'),\n",
       " ('VERITY',\n",
       "  'Colleen Hoover',\n",
       "  'https://storage.googleapis.com/du-prd/books/images/9781791392796.jpg'),\n",
       " ('            THE SEVEN HUSBANDS OF EVELYN HUGO          ',\n",
       "  'Taylor Jenkins Reid',\n",
       "  'https://storage.googleapis.com/du-prd/books/images/9781501161933.jpg'),\n",
       " ('MEANT TO BE',\n",
       "  'Emily Giffin',\n",
       "  'https://storage.googleapis.com/du-prd/books/images/9780425286647.jpg'),\n",
       " ('UGLY LOVE',\n",
       "  'Colleen Hoover',\n",
       "  'https://storage.googleapis.com/du-prd/books/images/9781476753195.jpg'),\n",
       " ('NIGHTWORK',\n",
       "  'Nora Roberts',\n",
       "  'https://storage.googleapis.com/du-prd/books/images/9781250278197.jpg'),\n",
       " ('THE BOARDWALK BOOKSHOP',\n",
       "  'Susan Mallery',\n",
       "  'https://storage.googleapis.com/du-prd/books/images/9780778386087.jpg'),\n",
       " ('PEOPLE WE MEET ON VACATION',\n",
       "  'Emily Henry',\n",
       "  'https://storage.googleapis.com/du-prd/books/images/9781984806758.jpg'),\n",
       " ('NOVEMBER 9',\n",
       "  'Colleen Hoover',\n",
       "  'https://storage.googleapis.com/du-prd/books/images/9781501110351.jpg'),\n",
       " ('BEACH READ',\n",
       "  'Emily Henry',\n",
       "  'https://storage.googleapis.com/du-prd/books/images/9781984806734.jpg'),\n",
       " ('ALL YOUR PERFECTS',\n",
       "  'Colleen Hoover',\n",
       "  'https://storage.googleapis.com/du-prd/books/images/9781501171604.jpg'),\n",
       " ('MALIBU RISING',\n",
       "  'Taylor Jenkins Reid',\n",
       "  'https://storage.googleapis.com/du-prd/books/images/9781524798659.jpg')]"
      ]
     },
     "execution_count": 20,
     "metadata": {},
     "output_type": "execute_result"
    }
   ],
   "source": [
    "get_book_info(page)"
   ]
  },
  {
   "cell_type": "code",
   "execution_count": 23,
   "metadata": {},
   "outputs": [
    {
     "data": {
      "text/plain": [
       "[('SPARRING PARTNERS',\n",
       "  'John Grisham',\n",
       "  'https://storage.googleapis.com/du-prd/books/images/9780385549325.jpg'),\n",
       " ('IT ENDS WITH US',\n",
       "  'Colleen Hoover',\n",
       "  'https://storage.googleapis.com/du-prd/books/images/9781501110375.jpg'),\n",
       " ('WHERE THE CRAWDADS SING',\n",
       "  'Delia Owens',\n",
       "  'https://storage.googleapis.com/du-prd/books/images/9780735219090.jpg'),\n",
       " ('BOOK LOVERS',\n",
       "  'Emily Henry',\n",
       "  'https://storage.googleapis.com/du-prd/books/images/9780593334836.jpg'),\n",
       " ('VERITY',\n",
       "  'Colleen Hoover',\n",
       "  'https://storage.googleapis.com/du-prd/books/images/9781791392796.jpg'),\n",
       " ('THE SEVEN HUSBANDS OF EVELYN HUGO',\n",
       "  'Taylor Jenkins Reid',\n",
       "  'https://storage.googleapis.com/du-prd/books/images/9781501161933.jpg'),\n",
       " ('MEANT TO BE',\n",
       "  'Emily Giffin',\n",
       "  'https://storage.googleapis.com/du-prd/books/images/9780425286647.jpg'),\n",
       " ('UGLY LOVE',\n",
       "  'Colleen Hoover',\n",
       "  'https://storage.googleapis.com/du-prd/books/images/9781476753195.jpg'),\n",
       " ('NIGHTWORK',\n",
       "  'Nora Roberts',\n",
       "  'https://storage.googleapis.com/du-prd/books/images/9781250278197.jpg'),\n",
       " ('THE BOARDWALK BOOKSHOP',\n",
       "  'Susan Mallery',\n",
       "  'https://storage.googleapis.com/du-prd/books/images/9780778386087.jpg'),\n",
       " ('PEOPLE WE MEET ON VACATION',\n",
       "  'Emily Henry',\n",
       "  'https://storage.googleapis.com/du-prd/books/images/9781984806758.jpg'),\n",
       " ('NOVEMBER 9',\n",
       "  'Colleen Hoover',\n",
       "  'https://storage.googleapis.com/du-prd/books/images/9781501110351.jpg'),\n",
       " ('BEACH READ',\n",
       "  'Emily Henry',\n",
       "  'https://storage.googleapis.com/du-prd/books/images/9781984806734.jpg'),\n",
       " ('ALL YOUR PERFECTS',\n",
       "  'Colleen Hoover',\n",
       "  'https://storage.googleapis.com/du-prd/books/images/9781501171604.jpg'),\n",
       " ('MALIBU RISING',\n",
       "  'Taylor Jenkins Reid',\n",
       "  'https://storage.googleapis.com/du-prd/books/images/9781524798659.jpg'),\n",
       " ('NIGHTWORK',\n",
       "  'Nora Roberts',\n",
       "  'https://storage.googleapis.com/du-prd/books/images/9781250278197.jpg'),\n",
       " ('WHERE THE CRAWDADS SING',\n",
       "  'Delia Owens',\n",
       "  'https://storage.googleapis.com/du-prd/books/images/9780735219090.jpg'),\n",
       " ('IT ENDS WITH US',\n",
       "  'Colleen Hoover',\n",
       "  'https://storage.googleapis.com/du-prd/books/images/9781501110375.jpg'),\n",
       " ('BOOK LOVERS',\n",
       "  'Emily Henry',\n",
       "  'https://storage.googleapis.com/du-prd/books/images/9780593334836.jpg'),\n",
       " ('VERITY',\n",
       "  'Colleen Hoover',\n",
       "  'https://storage.googleapis.com/du-prd/books/images/9781791392796.jpg'),\n",
       " ('THE SEVEN HUSBANDS OF EVELYN HUGO',\n",
       "  'Taylor Jenkins Reid',\n",
       "  'https://storage.googleapis.com/du-prd/books/images/9781501161933.jpg'),\n",
       " ('UGLY LOVE',\n",
       "  'Colleen Hoover',\n",
       "  'https://storage.googleapis.com/du-prd/books/images/9781476753195.jpg'),\n",
       " (\"CLIVE CUSSLER'S DARK VECTOR\",\n",
       "  'Graham Brown',\n",
       "  'https://storage.googleapis.com/du-prd/books/images/9780593419670.jpg'),\n",
       " ('PEOPLE WE MEET ON VACATION',\n",
       "  'Emily Henry',\n",
       "  'https://storage.googleapis.com/du-prd/books/images/9781984806758.jpg'),\n",
       " ('NOVEMBER 9',\n",
       "  'Colleen Hoover',\n",
       "  'https://storage.googleapis.com/du-prd/books/images/9781501110351.jpg'),\n",
       " ('22 SECONDS',\n",
       "  'James Patterson and Maxine Paetro',\n",
       "  'https://storage.googleapis.com/du-prd/books/images/9780316499378.jpg'),\n",
       " ('THE SUMMER PLACE',\n",
       "  'Jennifer Weiner',\n",
       "  'https://storage.googleapis.com/du-prd/books/images/9781501133572.jpg'),\n",
       " ('MALIBU RISING',\n",
       "  'Taylor Jenkins Reid',\n",
       "  'https://storage.googleapis.com/du-prd/books/images/9781524798659.jpg'),\n",
       " ('TWO NIGHTS IN LISBON',\n",
       "  'Chris Pavone',\n",
       "  'https://storage.googleapis.com/du-prd/books/images/9780374604769.jpg'),\n",
       " ('DREAM TOWN',\n",
       "  'David Baldacci',\n",
       "  'https://storage.googleapis.com/du-prd/books/images/9781538719770.jpg'),\n",
       " ('IN THE BLOOD',\n",
       "  'Jack Carr',\n",
       "  'https://storage.googleapis.com/du-prd/books/images/9781982181659.jpg'),\n",
       " ('BOOK LOVERS',\n",
       "  'Emily Henry',\n",
       "  'https://storage.googleapis.com/du-prd/books/images/9780593334836.jpg'),\n",
       " ('IT ENDS WITH US',\n",
       "  'Colleen Hoover',\n",
       "  'https://storage.googleapis.com/du-prd/books/images/9781501110375.jpg'),\n",
       " ('WHERE THE CRAWDADS SING',\n",
       "  'Delia Owens',\n",
       "  'https://storage.googleapis.com/du-prd/books/images/9780735219090.jpg'),\n",
       " ('VERITY',\n",
       "  'Colleen Hoover',\n",
       "  'https://storage.googleapis.com/du-prd/books/images/9781791392796.jpg'),\n",
       " ('THE SEVEN HUSBANDS OF EVELYN HUGO',\n",
       "  'Taylor Jenkins Reid',\n",
       "  'https://storage.googleapis.com/du-prd/books/images/9781501161933.jpg'),\n",
       " ('UGLY LOVE',\n",
       "  'Colleen Hoover',\n",
       "  'https://storage.googleapis.com/du-prd/books/images/9781476753195.jpg'),\n",
       " ('22 SECONDS',\n",
       "  'James Patterson and Maxine Paetro',\n",
       "  'https://storage.googleapis.com/du-prd/books/images/9780316499378.jpg'),\n",
       " ('THIS TIME TOMORROW',\n",
       "  'Emma Straub',\n",
       "  'https://storage.googleapis.com/du-prd/books/images/9780525539001.jpg'),\n",
       " ('PEOPLE WE MEET ON VACATION',\n",
       "  'Emily Henry',\n",
       "  'https://storage.googleapis.com/du-prd/books/images/9781984806758.jpg'),\n",
       " ('SOMETHING WILDER',\n",
       "  'Christina Lauren',\n",
       "  'https://storage.googleapis.com/du-prd/books/images/9781982173401.jpg'),\n",
       " ('DREAM TOWN',\n",
       "  'David Baldacci',\n",
       "  'https://storage.googleapis.com/du-prd/books/images/9781538719770.jpg'),\n",
       " ('THE SUMMER PLACE',\n",
       "  'Jennifer Weiner',\n",
       "  'https://storage.googleapis.com/du-prd/books/images/9781501133572.jpg'),\n",
       " ('MALIBU RISING',\n",
       "  'Taylor Jenkins Reid',\n",
       "  'https://storage.googleapis.com/du-prd/books/images/9781524798659.jpg'),\n",
       " ('BETTER OFF DEAD',\n",
       "  'Lee Child and Andrew Child',\n",
       "  'https://storage.googleapis.com/du-prd/books/images/9781984818508.jpg')]"
      ]
     },
     "execution_count": 23,
     "metadata": {},
     "output_type": "execute_result"
    }
   ],
   "source": [
    "with open(\"all_articles.html\",\"r\",encoding=\"utf-8\")as f:\n",
    "    page = f.read()\n",
    "    \n",
    "get_book_info(page)"
   ]
  },
  {
   "cell_type": "markdown",
   "metadata": {},
   "source": [
    "### Display in Notebook with images"
   ]
  },
  {
   "cell_type": "code",
   "execution_count": 24,
   "metadata": {},
   "outputs": [],
   "source": [
    "from IPython.display import Image,display"
   ]
  },
  {
   "cell_type": "code",
   "execution_count": 25,
   "metadata": {},
   "outputs": [],
   "source": [
    "book_info = get_book_info(page)"
   ]
  },
  {
   "cell_type": "code",
   "execution_count": 26,
   "metadata": {},
   "outputs": [
    {
     "name": "stdout",
     "output_type": "stream",
     "text": [
      "SPARRING PARTNERS\n",
      "John Grisham\n"
     ]
    },
    {
     "data": {
      "text/html": [
       "<img src=\"https://storage.googleapis.com/du-prd/books/images/9780385549325.jpg\" width=\"50\"/>"
      ],
      "text/plain": [
       "<IPython.core.display.Image object>"
      ]
     },
     "metadata": {},
     "output_type": "display_data"
    },
    {
     "name": "stdout",
     "output_type": "stream",
     "text": [
      "IT ENDS WITH US\n",
      "Colleen Hoover\n"
     ]
    },
    {
     "data": {
      "text/html": [
       "<img src=\"https://storage.googleapis.com/du-prd/books/images/9781501110375.jpg\" width=\"50\"/>"
      ],
      "text/plain": [
       "<IPython.core.display.Image object>"
      ]
     },
     "metadata": {},
     "output_type": "display_data"
    },
    {
     "name": "stdout",
     "output_type": "stream",
     "text": [
      "WHERE THE CRAWDADS SING\n",
      "Delia Owens\n"
     ]
    },
    {
     "data": {
      "text/html": [
       "<img src=\"https://storage.googleapis.com/du-prd/books/images/9780735219090.jpg\" width=\"50\"/>"
      ],
      "text/plain": [
       "<IPython.core.display.Image object>"
      ]
     },
     "metadata": {},
     "output_type": "display_data"
    },
    {
     "name": "stdout",
     "output_type": "stream",
     "text": [
      "BOOK LOVERS\n",
      "Emily Henry\n"
     ]
    },
    {
     "data": {
      "text/html": [
       "<img src=\"https://storage.googleapis.com/du-prd/books/images/9780593334836.jpg\" width=\"50\"/>"
      ],
      "text/plain": [
       "<IPython.core.display.Image object>"
      ]
     },
     "metadata": {},
     "output_type": "display_data"
    },
    {
     "name": "stdout",
     "output_type": "stream",
     "text": [
      "VERITY\n",
      "Colleen Hoover\n"
     ]
    },
    {
     "data": {
      "text/html": [
       "<img src=\"https://storage.googleapis.com/du-prd/books/images/9781791392796.jpg\" width=\"50\"/>"
      ],
      "text/plain": [
       "<IPython.core.display.Image object>"
      ]
     },
     "metadata": {},
     "output_type": "display_data"
    },
    {
     "name": "stdout",
     "output_type": "stream",
     "text": [
      "THE SEVEN HUSBANDS OF EVELYN HUGO\n",
      "Taylor Jenkins Reid\n"
     ]
    },
    {
     "data": {
      "text/html": [
       "<img src=\"https://storage.googleapis.com/du-prd/books/images/9781501161933.jpg\" width=\"50\"/>"
      ],
      "text/plain": [
       "<IPython.core.display.Image object>"
      ]
     },
     "metadata": {},
     "output_type": "display_data"
    },
    {
     "name": "stdout",
     "output_type": "stream",
     "text": [
      "MEANT TO BE\n",
      "Emily Giffin\n"
     ]
    },
    {
     "data": {
      "text/html": [
       "<img src=\"https://storage.googleapis.com/du-prd/books/images/9780425286647.jpg\" width=\"50\"/>"
      ],
      "text/plain": [
       "<IPython.core.display.Image object>"
      ]
     },
     "metadata": {},
     "output_type": "display_data"
    },
    {
     "name": "stdout",
     "output_type": "stream",
     "text": [
      "UGLY LOVE\n",
      "Colleen Hoover\n"
     ]
    },
    {
     "data": {
      "text/html": [
       "<img src=\"https://storage.googleapis.com/du-prd/books/images/9781476753195.jpg\" width=\"50\"/>"
      ],
      "text/plain": [
       "<IPython.core.display.Image object>"
      ]
     },
     "metadata": {},
     "output_type": "display_data"
    },
    {
     "name": "stdout",
     "output_type": "stream",
     "text": [
      "NIGHTWORK\n",
      "Nora Roberts\n"
     ]
    },
    {
     "data": {
      "text/html": [
       "<img src=\"https://storage.googleapis.com/du-prd/books/images/9781250278197.jpg\" width=\"50\"/>"
      ],
      "text/plain": [
       "<IPython.core.display.Image object>"
      ]
     },
     "metadata": {},
     "output_type": "display_data"
    },
    {
     "name": "stdout",
     "output_type": "stream",
     "text": [
      "THE BOARDWALK BOOKSHOP\n",
      "Susan Mallery\n"
     ]
    },
    {
     "data": {
      "text/html": [
       "<img src=\"https://storage.googleapis.com/du-prd/books/images/9780778386087.jpg\" width=\"50\"/>"
      ],
      "text/plain": [
       "<IPython.core.display.Image object>"
      ]
     },
     "metadata": {},
     "output_type": "display_data"
    },
    {
     "name": "stdout",
     "output_type": "stream",
     "text": [
      "PEOPLE WE MEET ON VACATION\n",
      "Emily Henry\n"
     ]
    },
    {
     "data": {
      "text/html": [
       "<img src=\"https://storage.googleapis.com/du-prd/books/images/9781984806758.jpg\" width=\"50\"/>"
      ],
      "text/plain": [
       "<IPython.core.display.Image object>"
      ]
     },
     "metadata": {},
     "output_type": "display_data"
    },
    {
     "name": "stdout",
     "output_type": "stream",
     "text": [
      "NOVEMBER 9\n",
      "Colleen Hoover\n"
     ]
    },
    {
     "data": {
      "text/html": [
       "<img src=\"https://storage.googleapis.com/du-prd/books/images/9781501110351.jpg\" width=\"50\"/>"
      ],
      "text/plain": [
       "<IPython.core.display.Image object>"
      ]
     },
     "metadata": {},
     "output_type": "display_data"
    },
    {
     "name": "stdout",
     "output_type": "stream",
     "text": [
      "BEACH READ\n",
      "Emily Henry\n"
     ]
    },
    {
     "data": {
      "text/html": [
       "<img src=\"https://storage.googleapis.com/du-prd/books/images/9781984806734.jpg\" width=\"50\"/>"
      ],
      "text/plain": [
       "<IPython.core.display.Image object>"
      ]
     },
     "metadata": {},
     "output_type": "display_data"
    },
    {
     "name": "stdout",
     "output_type": "stream",
     "text": [
      "ALL YOUR PERFECTS\n",
      "Colleen Hoover\n"
     ]
    },
    {
     "data": {
      "text/html": [
       "<img src=\"https://storage.googleapis.com/du-prd/books/images/9781501171604.jpg\" width=\"50\"/>"
      ],
      "text/plain": [
       "<IPython.core.display.Image object>"
      ]
     },
     "metadata": {},
     "output_type": "display_data"
    },
    {
     "name": "stdout",
     "output_type": "stream",
     "text": [
      "MALIBU RISING\n",
      "Taylor Jenkins Reid\n"
     ]
    },
    {
     "data": {
      "text/html": [
       "<img src=\"https://storage.googleapis.com/du-prd/books/images/9781524798659.jpg\" width=\"50\"/>"
      ],
      "text/plain": [
       "<IPython.core.display.Image object>"
      ]
     },
     "metadata": {},
     "output_type": "display_data"
    },
    {
     "name": "stdout",
     "output_type": "stream",
     "text": [
      "NIGHTWORK\n",
      "Nora Roberts\n"
     ]
    },
    {
     "data": {
      "text/html": [
       "<img src=\"https://storage.googleapis.com/du-prd/books/images/9781250278197.jpg\" width=\"50\"/>"
      ],
      "text/plain": [
       "<IPython.core.display.Image object>"
      ]
     },
     "metadata": {},
     "output_type": "display_data"
    },
    {
     "name": "stdout",
     "output_type": "stream",
     "text": [
      "WHERE THE CRAWDADS SING\n",
      "Delia Owens\n"
     ]
    },
    {
     "data": {
      "text/html": [
       "<img src=\"https://storage.googleapis.com/du-prd/books/images/9780735219090.jpg\" width=\"50\"/>"
      ],
      "text/plain": [
       "<IPython.core.display.Image object>"
      ]
     },
     "metadata": {},
     "output_type": "display_data"
    },
    {
     "name": "stdout",
     "output_type": "stream",
     "text": [
      "IT ENDS WITH US\n",
      "Colleen Hoover\n"
     ]
    },
    {
     "data": {
      "text/html": [
       "<img src=\"https://storage.googleapis.com/du-prd/books/images/9781501110375.jpg\" width=\"50\"/>"
      ],
      "text/plain": [
       "<IPython.core.display.Image object>"
      ]
     },
     "metadata": {},
     "output_type": "display_data"
    },
    {
     "name": "stdout",
     "output_type": "stream",
     "text": [
      "BOOK LOVERS\n",
      "Emily Henry\n"
     ]
    },
    {
     "data": {
      "text/html": [
       "<img src=\"https://storage.googleapis.com/du-prd/books/images/9780593334836.jpg\" width=\"50\"/>"
      ],
      "text/plain": [
       "<IPython.core.display.Image object>"
      ]
     },
     "metadata": {},
     "output_type": "display_data"
    },
    {
     "name": "stdout",
     "output_type": "stream",
     "text": [
      "VERITY\n",
      "Colleen Hoover\n"
     ]
    },
    {
     "data": {
      "text/html": [
       "<img src=\"https://storage.googleapis.com/du-prd/books/images/9781791392796.jpg\" width=\"50\"/>"
      ],
      "text/plain": [
       "<IPython.core.display.Image object>"
      ]
     },
     "metadata": {},
     "output_type": "display_data"
    },
    {
     "name": "stdout",
     "output_type": "stream",
     "text": [
      "THE SEVEN HUSBANDS OF EVELYN HUGO\n",
      "Taylor Jenkins Reid\n"
     ]
    },
    {
     "data": {
      "text/html": [
       "<img src=\"https://storage.googleapis.com/du-prd/books/images/9781501161933.jpg\" width=\"50\"/>"
      ],
      "text/plain": [
       "<IPython.core.display.Image object>"
      ]
     },
     "metadata": {},
     "output_type": "display_data"
    },
    {
     "name": "stdout",
     "output_type": "stream",
     "text": [
      "UGLY LOVE\n",
      "Colleen Hoover\n"
     ]
    },
    {
     "data": {
      "text/html": [
       "<img src=\"https://storage.googleapis.com/du-prd/books/images/9781476753195.jpg\" width=\"50\"/>"
      ],
      "text/plain": [
       "<IPython.core.display.Image object>"
      ]
     },
     "metadata": {},
     "output_type": "display_data"
    },
    {
     "name": "stdout",
     "output_type": "stream",
     "text": [
      "CLIVE CUSSLER'S DARK VECTOR\n",
      "Graham Brown\n"
     ]
    },
    {
     "data": {
      "text/html": [
       "<img src=\"https://storage.googleapis.com/du-prd/books/images/9780593419670.jpg\" width=\"50\"/>"
      ],
      "text/plain": [
       "<IPython.core.display.Image object>"
      ]
     },
     "metadata": {},
     "output_type": "display_data"
    },
    {
     "name": "stdout",
     "output_type": "stream",
     "text": [
      "PEOPLE WE MEET ON VACATION\n",
      "Emily Henry\n"
     ]
    },
    {
     "data": {
      "text/html": [
       "<img src=\"https://storage.googleapis.com/du-prd/books/images/9781984806758.jpg\" width=\"50\"/>"
      ],
      "text/plain": [
       "<IPython.core.display.Image object>"
      ]
     },
     "metadata": {},
     "output_type": "display_data"
    },
    {
     "name": "stdout",
     "output_type": "stream",
     "text": [
      "NOVEMBER 9\n",
      "Colleen Hoover\n"
     ]
    },
    {
     "data": {
      "text/html": [
       "<img src=\"https://storage.googleapis.com/du-prd/books/images/9781501110351.jpg\" width=\"50\"/>"
      ],
      "text/plain": [
       "<IPython.core.display.Image object>"
      ]
     },
     "metadata": {},
     "output_type": "display_data"
    },
    {
     "name": "stdout",
     "output_type": "stream",
     "text": [
      "22 SECONDS\n",
      "James Patterson and Maxine Paetro\n"
     ]
    },
    {
     "data": {
      "text/html": [
       "<img src=\"https://storage.googleapis.com/du-prd/books/images/9780316499378.jpg\" width=\"50\"/>"
      ],
      "text/plain": [
       "<IPython.core.display.Image object>"
      ]
     },
     "metadata": {},
     "output_type": "display_data"
    },
    {
     "name": "stdout",
     "output_type": "stream",
     "text": [
      "THE SUMMER PLACE\n",
      "Jennifer Weiner\n"
     ]
    },
    {
     "data": {
      "text/html": [
       "<img src=\"https://storage.googleapis.com/du-prd/books/images/9781501133572.jpg\" width=\"50\"/>"
      ],
      "text/plain": [
       "<IPython.core.display.Image object>"
      ]
     },
     "metadata": {},
     "output_type": "display_data"
    },
    {
     "name": "stdout",
     "output_type": "stream",
     "text": [
      "MALIBU RISING\n",
      "Taylor Jenkins Reid\n"
     ]
    },
    {
     "data": {
      "text/html": [
       "<img src=\"https://storage.googleapis.com/du-prd/books/images/9781524798659.jpg\" width=\"50\"/>"
      ],
      "text/plain": [
       "<IPython.core.display.Image object>"
      ]
     },
     "metadata": {},
     "output_type": "display_data"
    },
    {
     "name": "stdout",
     "output_type": "stream",
     "text": [
      "TWO NIGHTS IN LISBON\n",
      "Chris Pavone\n"
     ]
    },
    {
     "data": {
      "text/html": [
       "<img src=\"https://storage.googleapis.com/du-prd/books/images/9780374604769.jpg\" width=\"50\"/>"
      ],
      "text/plain": [
       "<IPython.core.display.Image object>"
      ]
     },
     "metadata": {},
     "output_type": "display_data"
    },
    {
     "name": "stdout",
     "output_type": "stream",
     "text": [
      "DREAM TOWN\n",
      "David Baldacci\n"
     ]
    },
    {
     "data": {
      "text/html": [
       "<img src=\"https://storage.googleapis.com/du-prd/books/images/9781538719770.jpg\" width=\"50\"/>"
      ],
      "text/plain": [
       "<IPython.core.display.Image object>"
      ]
     },
     "metadata": {},
     "output_type": "display_data"
    },
    {
     "name": "stdout",
     "output_type": "stream",
     "text": [
      "IN THE BLOOD\n",
      "Jack Carr\n"
     ]
    },
    {
     "data": {
      "text/html": [
       "<img src=\"https://storage.googleapis.com/du-prd/books/images/9781982181659.jpg\" width=\"50\"/>"
      ],
      "text/plain": [
       "<IPython.core.display.Image object>"
      ]
     },
     "metadata": {},
     "output_type": "display_data"
    },
    {
     "name": "stdout",
     "output_type": "stream",
     "text": [
      "BOOK LOVERS\n",
      "Emily Henry\n"
     ]
    },
    {
     "data": {
      "text/html": [
       "<img src=\"https://storage.googleapis.com/du-prd/books/images/9780593334836.jpg\" width=\"50\"/>"
      ],
      "text/plain": [
       "<IPython.core.display.Image object>"
      ]
     },
     "metadata": {},
     "output_type": "display_data"
    },
    {
     "name": "stdout",
     "output_type": "stream",
     "text": [
      "IT ENDS WITH US\n",
      "Colleen Hoover\n"
     ]
    },
    {
     "data": {
      "text/html": [
       "<img src=\"https://storage.googleapis.com/du-prd/books/images/9781501110375.jpg\" width=\"50\"/>"
      ],
      "text/plain": [
       "<IPython.core.display.Image object>"
      ]
     },
     "metadata": {},
     "output_type": "display_data"
    },
    {
     "name": "stdout",
     "output_type": "stream",
     "text": [
      "WHERE THE CRAWDADS SING\n",
      "Delia Owens\n"
     ]
    },
    {
     "data": {
      "text/html": [
       "<img src=\"https://storage.googleapis.com/du-prd/books/images/9780735219090.jpg\" width=\"50\"/>"
      ],
      "text/plain": [
       "<IPython.core.display.Image object>"
      ]
     },
     "metadata": {},
     "output_type": "display_data"
    },
    {
     "name": "stdout",
     "output_type": "stream",
     "text": [
      "VERITY\n",
      "Colleen Hoover\n"
     ]
    },
    {
     "data": {
      "text/html": [
       "<img src=\"https://storage.googleapis.com/du-prd/books/images/9781791392796.jpg\" width=\"50\"/>"
      ],
      "text/plain": [
       "<IPython.core.display.Image object>"
      ]
     },
     "metadata": {},
     "output_type": "display_data"
    },
    {
     "name": "stdout",
     "output_type": "stream",
     "text": [
      "THE SEVEN HUSBANDS OF EVELYN HUGO\n",
      "Taylor Jenkins Reid\n"
     ]
    },
    {
     "data": {
      "text/html": [
       "<img src=\"https://storage.googleapis.com/du-prd/books/images/9781501161933.jpg\" width=\"50\"/>"
      ],
      "text/plain": [
       "<IPython.core.display.Image object>"
      ]
     },
     "metadata": {},
     "output_type": "display_data"
    },
    {
     "name": "stdout",
     "output_type": "stream",
     "text": [
      "UGLY LOVE\n",
      "Colleen Hoover\n"
     ]
    },
    {
     "data": {
      "text/html": [
       "<img src=\"https://storage.googleapis.com/du-prd/books/images/9781476753195.jpg\" width=\"50\"/>"
      ],
      "text/plain": [
       "<IPython.core.display.Image object>"
      ]
     },
     "metadata": {},
     "output_type": "display_data"
    },
    {
     "name": "stdout",
     "output_type": "stream",
     "text": [
      "22 SECONDS\n",
      "James Patterson and Maxine Paetro\n"
     ]
    },
    {
     "data": {
      "text/html": [
       "<img src=\"https://storage.googleapis.com/du-prd/books/images/9780316499378.jpg\" width=\"50\"/>"
      ],
      "text/plain": [
       "<IPython.core.display.Image object>"
      ]
     },
     "metadata": {},
     "output_type": "display_data"
    },
    {
     "name": "stdout",
     "output_type": "stream",
     "text": [
      "THIS TIME TOMORROW\n",
      "Emma Straub\n"
     ]
    },
    {
     "data": {
      "text/html": [
       "<img src=\"https://storage.googleapis.com/du-prd/books/images/9780525539001.jpg\" width=\"50\"/>"
      ],
      "text/plain": [
       "<IPython.core.display.Image object>"
      ]
     },
     "metadata": {},
     "output_type": "display_data"
    },
    {
     "name": "stdout",
     "output_type": "stream",
     "text": [
      "PEOPLE WE MEET ON VACATION\n",
      "Emily Henry\n"
     ]
    },
    {
     "data": {
      "text/html": [
       "<img src=\"https://storage.googleapis.com/du-prd/books/images/9781984806758.jpg\" width=\"50\"/>"
      ],
      "text/plain": [
       "<IPython.core.display.Image object>"
      ]
     },
     "metadata": {},
     "output_type": "display_data"
    },
    {
     "name": "stdout",
     "output_type": "stream",
     "text": [
      "SOMETHING WILDER\n",
      "Christina Lauren\n"
     ]
    },
    {
     "data": {
      "text/html": [
       "<img src=\"https://storage.googleapis.com/du-prd/books/images/9781982173401.jpg\" width=\"50\"/>"
      ],
      "text/plain": [
       "<IPython.core.display.Image object>"
      ]
     },
     "metadata": {},
     "output_type": "display_data"
    },
    {
     "name": "stdout",
     "output_type": "stream",
     "text": [
      "DREAM TOWN\n",
      "David Baldacci\n"
     ]
    },
    {
     "data": {
      "text/html": [
       "<img src=\"https://storage.googleapis.com/du-prd/books/images/9781538719770.jpg\" width=\"50\"/>"
      ],
      "text/plain": [
       "<IPython.core.display.Image object>"
      ]
     },
     "metadata": {},
     "output_type": "display_data"
    },
    {
     "name": "stdout",
     "output_type": "stream",
     "text": [
      "THE SUMMER PLACE\n",
      "Jennifer Weiner\n"
     ]
    },
    {
     "data": {
      "text/html": [
       "<img src=\"https://storage.googleapis.com/du-prd/books/images/9781501133572.jpg\" width=\"50\"/>"
      ],
      "text/plain": [
       "<IPython.core.display.Image object>"
      ]
     },
     "metadata": {},
     "output_type": "display_data"
    },
    {
     "name": "stdout",
     "output_type": "stream",
     "text": [
      "MALIBU RISING\n",
      "Taylor Jenkins Reid\n"
     ]
    },
    {
     "data": {
      "text/html": [
       "<img src=\"https://storage.googleapis.com/du-prd/books/images/9781524798659.jpg\" width=\"50\"/>"
      ],
      "text/plain": [
       "<IPython.core.display.Image object>"
      ]
     },
     "metadata": {},
     "output_type": "display_data"
    },
    {
     "name": "stdout",
     "output_type": "stream",
     "text": [
      "BETTER OFF DEAD\n",
      "Lee Child and Andrew Child\n"
     ]
    },
    {
     "data": {
      "text/html": [
       "<img src=\"https://storage.googleapis.com/du-prd/books/images/9781984818508.jpg\" width=\"50\"/>"
      ],
      "text/plain": [
       "<IPython.core.display.Image object>"
      ]
     },
     "metadata": {},
     "output_type": "display_data"
    }
   ],
   "source": [
    "for book in book_info:\n",
    "    print(book[0])\n",
    "    print(book[1])\n",
    "    display(Image(url=book[2],width=50))"
   ]
  },
  {
   "cell_type": "markdown",
   "metadata": {},
   "source": [
    "### Using the data in Pandas"
   ]
  },
  {
   "cell_type": "code",
   "execution_count": 32,
   "metadata": {},
   "outputs": [
    {
     "data": {
      "text/html": [
       "<div>\n",
       "<style scoped>\n",
       "    .dataframe tbody tr th:only-of-type {\n",
       "        vertical-align: middle;\n",
       "    }\n",
       "\n",
       "    .dataframe tbody tr th {\n",
       "        vertical-align: top;\n",
       "    }\n",
       "\n",
       "    .dataframe thead th {\n",
       "        text-align: right;\n",
       "    }\n",
       "</style>\n",
       "<table border=\"1\" class=\"dataframe\">\n",
       "  <thead>\n",
       "    <tr style=\"text-align: right;\">\n",
       "      <th></th>\n",
       "      <th>titles</th>\n",
       "      <th>authors</th>\n",
       "      <th>cover_url</th>\n",
       "    </tr>\n",
       "  </thead>\n",
       "  <tbody>\n",
       "    <tr>\n",
       "      <th>0</th>\n",
       "      <td>SPARRING PARTNERS</td>\n",
       "      <td>John Grisham</td>\n",
       "      <td>https://storage.googleapis.com/du-prd/books/im...</td>\n",
       "    </tr>\n",
       "    <tr>\n",
       "      <th>1</th>\n",
       "      <td>IT ENDS WITH US</td>\n",
       "      <td>Colleen Hoover</td>\n",
       "      <td>https://storage.googleapis.com/du-prd/books/im...</td>\n",
       "    </tr>\n",
       "    <tr>\n",
       "      <th>2</th>\n",
       "      <td>WHERE THE CRAWDADS SING</td>\n",
       "      <td>Delia Owens</td>\n",
       "      <td>https://storage.googleapis.com/du-prd/books/im...</td>\n",
       "    </tr>\n",
       "    <tr>\n",
       "      <th>3</th>\n",
       "      <td>BOOK LOVERS</td>\n",
       "      <td>Emily Henry</td>\n",
       "      <td>https://storage.googleapis.com/du-prd/books/im...</td>\n",
       "    </tr>\n",
       "    <tr>\n",
       "      <th>4</th>\n",
       "      <td>VERITY</td>\n",
       "      <td>Colleen Hoover</td>\n",
       "      <td>https://storage.googleapis.com/du-prd/books/im...</td>\n",
       "    </tr>\n",
       "    <tr>\n",
       "      <th>5</th>\n",
       "      <td>THE SEVEN HUSBANDS OF EVELYN HUGO</td>\n",
       "      <td>Taylor Jenkins Reid</td>\n",
       "      <td>https://storage.googleapis.com/du-prd/books/im...</td>\n",
       "    </tr>\n",
       "    <tr>\n",
       "      <th>6</th>\n",
       "      <td>MEANT TO BE</td>\n",
       "      <td>Emily Giffin</td>\n",
       "      <td>https://storage.googleapis.com/du-prd/books/im...</td>\n",
       "    </tr>\n",
       "    <tr>\n",
       "      <th>7</th>\n",
       "      <td>UGLY LOVE</td>\n",
       "      <td>Colleen Hoover</td>\n",
       "      <td>https://storage.googleapis.com/du-prd/books/im...</td>\n",
       "    </tr>\n",
       "    <tr>\n",
       "      <th>8</th>\n",
       "      <td>NIGHTWORK</td>\n",
       "      <td>Nora Roberts</td>\n",
       "      <td>https://storage.googleapis.com/du-prd/books/im...</td>\n",
       "    </tr>\n",
       "    <tr>\n",
       "      <th>9</th>\n",
       "      <td>THE BOARDWALK BOOKSHOP</td>\n",
       "      <td>Susan Mallery</td>\n",
       "      <td>https://storage.googleapis.com/du-prd/books/im...</td>\n",
       "    </tr>\n",
       "    <tr>\n",
       "      <th>10</th>\n",
       "      <td>PEOPLE WE MEET ON VACATION</td>\n",
       "      <td>Emily Henry</td>\n",
       "      <td>https://storage.googleapis.com/du-prd/books/im...</td>\n",
       "    </tr>\n",
       "    <tr>\n",
       "      <th>11</th>\n",
       "      <td>NOVEMBER 9</td>\n",
       "      <td>Colleen Hoover</td>\n",
       "      <td>https://storage.googleapis.com/du-prd/books/im...</td>\n",
       "    </tr>\n",
       "    <tr>\n",
       "      <th>12</th>\n",
       "      <td>BEACH READ</td>\n",
       "      <td>Emily Henry</td>\n",
       "      <td>https://storage.googleapis.com/du-prd/books/im...</td>\n",
       "    </tr>\n",
       "    <tr>\n",
       "      <th>13</th>\n",
       "      <td>ALL YOUR PERFECTS</td>\n",
       "      <td>Colleen Hoover</td>\n",
       "      <td>https://storage.googleapis.com/du-prd/books/im...</td>\n",
       "    </tr>\n",
       "    <tr>\n",
       "      <th>14</th>\n",
       "      <td>MALIBU RISING</td>\n",
       "      <td>Taylor Jenkins Reid</td>\n",
       "      <td>https://storage.googleapis.com/du-prd/books/im...</td>\n",
       "    </tr>\n",
       "    <tr>\n",
       "      <th>15</th>\n",
       "      <td>NIGHTWORK</td>\n",
       "      <td>Nora Roberts</td>\n",
       "      <td>https://storage.googleapis.com/du-prd/books/im...</td>\n",
       "    </tr>\n",
       "    <tr>\n",
       "      <th>16</th>\n",
       "      <td>WHERE THE CRAWDADS SING</td>\n",
       "      <td>Delia Owens</td>\n",
       "      <td>https://storage.googleapis.com/du-prd/books/im...</td>\n",
       "    </tr>\n",
       "    <tr>\n",
       "      <th>17</th>\n",
       "      <td>IT ENDS WITH US</td>\n",
       "      <td>Colleen Hoover</td>\n",
       "      <td>https://storage.googleapis.com/du-prd/books/im...</td>\n",
       "    </tr>\n",
       "    <tr>\n",
       "      <th>18</th>\n",
       "      <td>BOOK LOVERS</td>\n",
       "      <td>Emily Henry</td>\n",
       "      <td>https://storage.googleapis.com/du-prd/books/im...</td>\n",
       "    </tr>\n",
       "    <tr>\n",
       "      <th>19</th>\n",
       "      <td>VERITY</td>\n",
       "      <td>Colleen Hoover</td>\n",
       "      <td>https://storage.googleapis.com/du-prd/books/im...</td>\n",
       "    </tr>\n",
       "    <tr>\n",
       "      <th>20</th>\n",
       "      <td>THE SEVEN HUSBANDS OF EVELYN HUGO</td>\n",
       "      <td>Taylor Jenkins Reid</td>\n",
       "      <td>https://storage.googleapis.com/du-prd/books/im...</td>\n",
       "    </tr>\n",
       "    <tr>\n",
       "      <th>21</th>\n",
       "      <td>UGLY LOVE</td>\n",
       "      <td>Colleen Hoover</td>\n",
       "      <td>https://storage.googleapis.com/du-prd/books/im...</td>\n",
       "    </tr>\n",
       "    <tr>\n",
       "      <th>22</th>\n",
       "      <td>CLIVE CUSSLER'S DARK VECTOR</td>\n",
       "      <td>Graham Brown</td>\n",
       "      <td>https://storage.googleapis.com/du-prd/books/im...</td>\n",
       "    </tr>\n",
       "    <tr>\n",
       "      <th>23</th>\n",
       "      <td>PEOPLE WE MEET ON VACATION</td>\n",
       "      <td>Emily Henry</td>\n",
       "      <td>https://storage.googleapis.com/du-prd/books/im...</td>\n",
       "    </tr>\n",
       "    <tr>\n",
       "      <th>24</th>\n",
       "      <td>NOVEMBER 9</td>\n",
       "      <td>Colleen Hoover</td>\n",
       "      <td>https://storage.googleapis.com/du-prd/books/im...</td>\n",
       "    </tr>\n",
       "    <tr>\n",
       "      <th>25</th>\n",
       "      <td>22 SECONDS</td>\n",
       "      <td>James Patterson and Maxine Paetro</td>\n",
       "      <td>https://storage.googleapis.com/du-prd/books/im...</td>\n",
       "    </tr>\n",
       "    <tr>\n",
       "      <th>26</th>\n",
       "      <td>THE SUMMER PLACE</td>\n",
       "      <td>Jennifer Weiner</td>\n",
       "      <td>https://storage.googleapis.com/du-prd/books/im...</td>\n",
       "    </tr>\n",
       "    <tr>\n",
       "      <th>27</th>\n",
       "      <td>MALIBU RISING</td>\n",
       "      <td>Taylor Jenkins Reid</td>\n",
       "      <td>https://storage.googleapis.com/du-prd/books/im...</td>\n",
       "    </tr>\n",
       "    <tr>\n",
       "      <th>28</th>\n",
       "      <td>TWO NIGHTS IN LISBON</td>\n",
       "      <td>Chris Pavone</td>\n",
       "      <td>https://storage.googleapis.com/du-prd/books/im...</td>\n",
       "    </tr>\n",
       "    <tr>\n",
       "      <th>29</th>\n",
       "      <td>DREAM TOWN</td>\n",
       "      <td>David Baldacci</td>\n",
       "      <td>https://storage.googleapis.com/du-prd/books/im...</td>\n",
       "    </tr>\n",
       "    <tr>\n",
       "      <th>30</th>\n",
       "      <td>IN THE BLOOD</td>\n",
       "      <td>Jack Carr</td>\n",
       "      <td>https://storage.googleapis.com/du-prd/books/im...</td>\n",
       "    </tr>\n",
       "    <tr>\n",
       "      <th>31</th>\n",
       "      <td>BOOK LOVERS</td>\n",
       "      <td>Emily Henry</td>\n",
       "      <td>https://storage.googleapis.com/du-prd/books/im...</td>\n",
       "    </tr>\n",
       "    <tr>\n",
       "      <th>32</th>\n",
       "      <td>IT ENDS WITH US</td>\n",
       "      <td>Colleen Hoover</td>\n",
       "      <td>https://storage.googleapis.com/du-prd/books/im...</td>\n",
       "    </tr>\n",
       "    <tr>\n",
       "      <th>33</th>\n",
       "      <td>WHERE THE CRAWDADS SING</td>\n",
       "      <td>Delia Owens</td>\n",
       "      <td>https://storage.googleapis.com/du-prd/books/im...</td>\n",
       "    </tr>\n",
       "    <tr>\n",
       "      <th>34</th>\n",
       "      <td>VERITY</td>\n",
       "      <td>Colleen Hoover</td>\n",
       "      <td>https://storage.googleapis.com/du-prd/books/im...</td>\n",
       "    </tr>\n",
       "    <tr>\n",
       "      <th>35</th>\n",
       "      <td>THE SEVEN HUSBANDS OF EVELYN HUGO</td>\n",
       "      <td>Taylor Jenkins Reid</td>\n",
       "      <td>https://storage.googleapis.com/du-prd/books/im...</td>\n",
       "    </tr>\n",
       "    <tr>\n",
       "      <th>36</th>\n",
       "      <td>UGLY LOVE</td>\n",
       "      <td>Colleen Hoover</td>\n",
       "      <td>https://storage.googleapis.com/du-prd/books/im...</td>\n",
       "    </tr>\n",
       "    <tr>\n",
       "      <th>37</th>\n",
       "      <td>22 SECONDS</td>\n",
       "      <td>James Patterson and Maxine Paetro</td>\n",
       "      <td>https://storage.googleapis.com/du-prd/books/im...</td>\n",
       "    </tr>\n",
       "    <tr>\n",
       "      <th>38</th>\n",
       "      <td>THIS TIME TOMORROW</td>\n",
       "      <td>Emma Straub</td>\n",
       "      <td>https://storage.googleapis.com/du-prd/books/im...</td>\n",
       "    </tr>\n",
       "    <tr>\n",
       "      <th>39</th>\n",
       "      <td>PEOPLE WE MEET ON VACATION</td>\n",
       "      <td>Emily Henry</td>\n",
       "      <td>https://storage.googleapis.com/du-prd/books/im...</td>\n",
       "    </tr>\n",
       "    <tr>\n",
       "      <th>40</th>\n",
       "      <td>SOMETHING WILDER</td>\n",
       "      <td>Christina Lauren</td>\n",
       "      <td>https://storage.googleapis.com/du-prd/books/im...</td>\n",
       "    </tr>\n",
       "    <tr>\n",
       "      <th>41</th>\n",
       "      <td>DREAM TOWN</td>\n",
       "      <td>David Baldacci</td>\n",
       "      <td>https://storage.googleapis.com/du-prd/books/im...</td>\n",
       "    </tr>\n",
       "    <tr>\n",
       "      <th>42</th>\n",
       "      <td>THE SUMMER PLACE</td>\n",
       "      <td>Jennifer Weiner</td>\n",
       "      <td>https://storage.googleapis.com/du-prd/books/im...</td>\n",
       "    </tr>\n",
       "    <tr>\n",
       "      <th>43</th>\n",
       "      <td>MALIBU RISING</td>\n",
       "      <td>Taylor Jenkins Reid</td>\n",
       "      <td>https://storage.googleapis.com/du-prd/books/im...</td>\n",
       "    </tr>\n",
       "    <tr>\n",
       "      <th>44</th>\n",
       "      <td>BETTER OFF DEAD</td>\n",
       "      <td>Lee Child and Andrew Child</td>\n",
       "      <td>https://storage.googleapis.com/du-prd/books/im...</td>\n",
       "    </tr>\n",
       "  </tbody>\n",
       "</table>\n",
       "</div>"
      ],
      "text/plain": [
       "                               titles  ...                                          cover_url\n",
       "0                   SPARRING PARTNERS  ...  https://storage.googleapis.com/du-prd/books/im...\n",
       "1                     IT ENDS WITH US  ...  https://storage.googleapis.com/du-prd/books/im...\n",
       "2             WHERE THE CRAWDADS SING  ...  https://storage.googleapis.com/du-prd/books/im...\n",
       "3                         BOOK LOVERS  ...  https://storage.googleapis.com/du-prd/books/im...\n",
       "4                              VERITY  ...  https://storage.googleapis.com/du-prd/books/im...\n",
       "5   THE SEVEN HUSBANDS OF EVELYN HUGO  ...  https://storage.googleapis.com/du-prd/books/im...\n",
       "6                         MEANT TO BE  ...  https://storage.googleapis.com/du-prd/books/im...\n",
       "7                           UGLY LOVE  ...  https://storage.googleapis.com/du-prd/books/im...\n",
       "8                           NIGHTWORK  ...  https://storage.googleapis.com/du-prd/books/im...\n",
       "9              THE BOARDWALK BOOKSHOP  ...  https://storage.googleapis.com/du-prd/books/im...\n",
       "10         PEOPLE WE MEET ON VACATION  ...  https://storage.googleapis.com/du-prd/books/im...\n",
       "11                         NOVEMBER 9  ...  https://storage.googleapis.com/du-prd/books/im...\n",
       "12                         BEACH READ  ...  https://storage.googleapis.com/du-prd/books/im...\n",
       "13                  ALL YOUR PERFECTS  ...  https://storage.googleapis.com/du-prd/books/im...\n",
       "14                      MALIBU RISING  ...  https://storage.googleapis.com/du-prd/books/im...\n",
       "15                          NIGHTWORK  ...  https://storage.googleapis.com/du-prd/books/im...\n",
       "16            WHERE THE CRAWDADS SING  ...  https://storage.googleapis.com/du-prd/books/im...\n",
       "17                    IT ENDS WITH US  ...  https://storage.googleapis.com/du-prd/books/im...\n",
       "18                        BOOK LOVERS  ...  https://storage.googleapis.com/du-prd/books/im...\n",
       "19                             VERITY  ...  https://storage.googleapis.com/du-prd/books/im...\n",
       "20  THE SEVEN HUSBANDS OF EVELYN HUGO  ...  https://storage.googleapis.com/du-prd/books/im...\n",
       "21                          UGLY LOVE  ...  https://storage.googleapis.com/du-prd/books/im...\n",
       "22        CLIVE CUSSLER'S DARK VECTOR  ...  https://storage.googleapis.com/du-prd/books/im...\n",
       "23         PEOPLE WE MEET ON VACATION  ...  https://storage.googleapis.com/du-prd/books/im...\n",
       "24                         NOVEMBER 9  ...  https://storage.googleapis.com/du-prd/books/im...\n",
       "25                         22 SECONDS  ...  https://storage.googleapis.com/du-prd/books/im...\n",
       "26                   THE SUMMER PLACE  ...  https://storage.googleapis.com/du-prd/books/im...\n",
       "27                      MALIBU RISING  ...  https://storage.googleapis.com/du-prd/books/im...\n",
       "28               TWO NIGHTS IN LISBON  ...  https://storage.googleapis.com/du-prd/books/im...\n",
       "29                         DREAM TOWN  ...  https://storage.googleapis.com/du-prd/books/im...\n",
       "30                       IN THE BLOOD  ...  https://storage.googleapis.com/du-prd/books/im...\n",
       "31                        BOOK LOVERS  ...  https://storage.googleapis.com/du-prd/books/im...\n",
       "32                    IT ENDS WITH US  ...  https://storage.googleapis.com/du-prd/books/im...\n",
       "33            WHERE THE CRAWDADS SING  ...  https://storage.googleapis.com/du-prd/books/im...\n",
       "34                             VERITY  ...  https://storage.googleapis.com/du-prd/books/im...\n",
       "35  THE SEVEN HUSBANDS OF EVELYN HUGO  ...  https://storage.googleapis.com/du-prd/books/im...\n",
       "36                          UGLY LOVE  ...  https://storage.googleapis.com/du-prd/books/im...\n",
       "37                         22 SECONDS  ...  https://storage.googleapis.com/du-prd/books/im...\n",
       "38                 THIS TIME TOMORROW  ...  https://storage.googleapis.com/du-prd/books/im...\n",
       "39         PEOPLE WE MEET ON VACATION  ...  https://storage.googleapis.com/du-prd/books/im...\n",
       "40                   SOMETHING WILDER  ...  https://storage.googleapis.com/du-prd/books/im...\n",
       "41                         DREAM TOWN  ...  https://storage.googleapis.com/du-prd/books/im...\n",
       "42                   THE SUMMER PLACE  ...  https://storage.googleapis.com/du-prd/books/im...\n",
       "43                      MALIBU RISING  ...  https://storage.googleapis.com/du-prd/books/im...\n",
       "44                    BETTER OFF DEAD  ...  https://storage.googleapis.com/du-prd/books/im...\n",
       "\n",
       "[45 rows x 3 columns]"
      ]
     },
     "execution_count": 32,
     "metadata": {},
     "output_type": "execute_result"
    }
   ],
   "source": [
    "import pandas as pd\n",
    "\n",
    "books_df=pd.DataFrame(book_info,columns=[\"titles\",\"authors\",\"cover_url\"])\n",
    "books_df"
   ]
  },
  {
   "cell_type": "code",
   "execution_count": 35,
   "metadata": {},
   "outputs": [
    {
     "data": {
      "text/plain": [
       "MALIBU RISING                        3\n",
       "WHERE THE CRAWDADS SING              3\n",
       "BOOK LOVERS                          3\n",
       "VERITY                               3\n",
       "THE SEVEN HUSBANDS OF EVELYN HUGO    3\n",
       "UGLY LOVE                            3\n",
       "PEOPLE WE MEET ON VACATION           3\n",
       "IT ENDS WITH US                      3\n",
       "THE SUMMER PLACE                     2\n",
       "22 SECONDS                           2\n",
       "NIGHTWORK                            2\n",
       "DREAM TOWN                           2\n",
       "NOVEMBER 9                           2\n",
       "SPARRING PARTNERS                    1\n",
       "IN THE BLOOD                         1\n",
       "TWO NIGHTS IN LISBON                 1\n",
       "SOMETHING WILDER                     1\n",
       "THIS TIME TOMORROW                   1\n",
       "BEACH READ                           1\n",
       "CLIVE CUSSLER'S DARK VECTOR          1\n",
       "ALL YOUR PERFECTS                    1\n",
       "THE BOARDWALK BOOKSHOP               1\n",
       "MEANT TO BE                          1\n",
       "BETTER OFF DEAD                      1\n",
       "Name: titles, dtype: int64"
      ]
     },
     "execution_count": 35,
     "metadata": {},
     "output_type": "execute_result"
    }
   ],
   "source": [
    "books_df[\"titles\"].value_counts()"
   ]
  },
  {
   "cell_type": "code",
   "execution_count": null,
   "metadata": {},
   "outputs": [],
   "source": []
  }
 ],
 "metadata": {
  "kernelspec": {
   "display_name": "Python 3 (ipykernel)",
   "language": "python",
   "name": "python3"
  },
  "language_info": {
   "codemirror_mode": {
    "name": "ipython",
    "version": 3
   },
   "file_extension": ".py",
   "mimetype": "text/x-python",
   "name": "python",
   "nbconvert_exporter": "python",
   "pygments_lexer": "ipython3",
   "version": "3.9.7"
  }
 },
 "nbformat": 4,
 "nbformat_minor": 4
}
